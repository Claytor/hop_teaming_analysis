{
 "cells": [
  {
   "attachments": {},
   "cell_type": "markdown",
   "metadata": {},
   "source": [
    "# HOP Team Project - The Hindenburg Group\n",
    "Tim Claytor\n",
    "\n",
    "![Baloon](https://cdn.britannica.com/29/1229-004-0E10D8E6/Hindenburg-flames-Lakehurst-Naval-Air-Station-New-May-6-1937.jpg?s=750x300&q=85) \n"
   ]
  },
  {
   "attachments": {},
   "cell_type": "markdown",
   "metadata": {},
   "source": [
    "___"
   ]
  },
  {
   "attachments": {},
   "cell_type": "markdown",
   "metadata": {},
   "source": [
    "* Library imports"
   ]
  },
  {
   "cell_type": "code",
   "execution_count": 5,
   "metadata": {},
   "outputs": [],
   "source": [
    "import pandas as pd\n",
    "import sqlite3\n",
    "from tqdm.notebook import tqdm"
   ]
  },
  {
   "attachments": {},
   "cell_type": "markdown",
   "metadata": {},
   "source": [
    "## Tasks\n",
    "* ~~We want to eliminate \"accidental\" referrals, so filter the hop teaming data so that the transaction_count is at least 50 and the average_day_wait is less than 50.~~\n",
    "* First, build a profile of providers referring patients to the major hospitals in Nashville. Are certain specialties more likely to refer to a particular hospital over the others?\n",
    "* Determine which professionals Vanderbilt Hospital should reach out to in the Nashville area to expand their own patient volume. \n",
    "    - First, research which professionals are sending significant numbers of patients only to competitor hospitals (such as TriStar Centennial Medical Center).\n",
    "    - Next, consider the specialty of the provider. If Vanderbilt wants to increase volume from Orthopedic Surgeons or from Family Medicine doctors who should they reach out to in those areas?\n",
    "* Finally, look for \"communities\" of providers in the Nashville/Davidson County CBSA. Make use of the Louvain community detection algorithm from Neo4j: https://neo4j.com/docs/graph-data-science/current/algorithms/louvain/."
   ]
  },
  {
   "attachments": {},
   "cell_type": "markdown",
   "metadata": {},
   "source": [
    "# Smaller Import Dataframes (non-chunky) "
   ]
  },
  {
   "cell_type": "code",
   "execution_count": null,
   "metadata": {},
   "outputs": [],
   "source": [
    "# Taxonomy table\n",
    "taxonomy = pd.read_csv('../data/nucc_taxonomy_230.csv', encoding = 'unicode_escape')\n",
    "taxonomy.info()\n",
    "taxonomy.head()\n"
   ]
  },
  {
   "cell_type": "code",
   "execution_count": 69,
   "metadata": {},
   "outputs": [
    {
     "data": {
      "text/html": [
       "<div>\n",
       "<style scoped>\n",
       "    .dataframe tbody tr th:only-of-type {\n",
       "        vertical-align: middle;\n",
       "    }\n",
       "\n",
       "    .dataframe tbody tr th {\n",
       "        vertical-align: top;\n",
       "    }\n",
       "\n",
       "    .dataframe thead th {\n",
       "        text-align: right;\n",
       "    }\n",
       "</style>\n",
       "<table border=\"1\" class=\"dataframe\">\n",
       "  <thead>\n",
       "    <tr style=\"text-align: right;\">\n",
       "      <th></th>\n",
       "      <th>zip</th>\n",
       "      <th>tract</th>\n",
       "      <th>usps_zip_pref_city</th>\n",
       "      <th>usps_zip_pref_state</th>\n",
       "      <th>res_ratio</th>\n",
       "      <th>bus_ratio</th>\n",
       "      <th>oth_ratio</th>\n",
       "      <th>tot_ratio</th>\n",
       "    </tr>\n",
       "  </thead>\n",
       "  <tbody>\n",
       "    <tr>\n",
       "      <th>0</th>\n",
       "      <td>00683</td>\n",
       "      <td>72023830102</td>\n",
       "      <td>SAN GERMAN</td>\n",
       "      <td>PR</td>\n",
       "      <td>0.000791</td>\n",
       "      <td>0.001116</td>\n",
       "      <td>0.000000</td>\n",
       "      <td>0.000800</td>\n",
       "    </tr>\n",
       "    <tr>\n",
       "      <th>1</th>\n",
       "      <td>00683</td>\n",
       "      <td>72125840700</td>\n",
       "      <td>SAN GERMAN</td>\n",
       "      <td>PR</td>\n",
       "      <td>0.186219</td>\n",
       "      <td>0.370536</td>\n",
       "      <td>0.381643</td>\n",
       "      <td>0.201179</td>\n",
       "    </tr>\n",
       "    <tr>\n",
       "      <th>2</th>\n",
       "      <td>00683</td>\n",
       "      <td>72125840400</td>\n",
       "      <td>SAN GERMAN</td>\n",
       "      <td>PR</td>\n",
       "      <td>0.300451</td>\n",
       "      <td>0.187500</td>\n",
       "      <td>0.115942</td>\n",
       "      <td>0.290308</td>\n",
       "    </tr>\n",
       "    <tr>\n",
       "      <th>3</th>\n",
       "      <td>00683</td>\n",
       "      <td>72125840600</td>\n",
       "      <td>SAN GERMAN</td>\n",
       "      <td>PR</td>\n",
       "      <td>0.095325</td>\n",
       "      <td>0.007812</td>\n",
       "      <td>0.000000</td>\n",
       "      <td>0.088184</td>\n",
       "    </tr>\n",
       "    <tr>\n",
       "      <th>4</th>\n",
       "      <td>00683</td>\n",
       "      <td>72121960300</td>\n",
       "      <td>SAN GERMAN</td>\n",
       "      <td>PR</td>\n",
       "      <td>0.042402</td>\n",
       "      <td>0.002232</td>\n",
       "      <td>0.019324</td>\n",
       "      <td>0.039435</td>\n",
       "    </tr>\n",
       "  </tbody>\n",
       "</table>\n",
       "</div>"
      ],
      "text/plain": [
       "     zip        tract usps_zip_pref_city usps_zip_pref_state  res_ratio  \\\n",
       "0  00683  72023830102         SAN GERMAN                  PR   0.000791   \n",
       "1  00683  72125840700         SAN GERMAN                  PR   0.186219   \n",
       "2  00683  72125840400         SAN GERMAN                  PR   0.300451   \n",
       "3  00683  72125840600         SAN GERMAN                  PR   0.095325   \n",
       "4  00683  72121960300         SAN GERMAN                  PR   0.042402   \n",
       "\n",
       "   bus_ratio  oth_ratio  tot_ratio  \n",
       "0   0.001116   0.000000   0.000800  \n",
       "1   0.370536   0.381643   0.201179  \n",
       "2   0.187500   0.115942   0.290308  \n",
       "3   0.007812   0.000000   0.088184  \n",
       "4   0.002232   0.019324   0.039435  "
      ]
     },
     "execution_count": 69,
     "metadata": {},
     "output_type": "execute_result"
    }
   ],
   "source": [
    "# Zip Tract Table\n",
    "all_zip = pd.read_excel('../data/ZIP_TRACT_122021.xlsx', index_col = None, header = 0, dtype={'zip': object})\n",
    "all_zip.head()"
   ]
  },
  {
   "cell_type": "code",
   "execution_count": 102,
   "metadata": {},
   "outputs": [
    {
     "ename": "NameError",
     "evalue": "name 'usps_zip_pref_city' is not defined",
     "output_type": "error",
     "traceback": [
      "\u001b[0;31m---------------------------------------------------------------------------\u001b[0m",
      "\u001b[0;31mNameError\u001b[0m                                 Traceback (most recent call last)",
      "\u001b[1;32m/home/chunderdamus/Documents/NSS/NSS_Projects/hop_team-the-hindenburgs/notebooks/claytor.ipynb Cell 9\u001b[0m in \u001b[0;36m<cell line: 2>\u001b[0;34m()\u001b[0m\n\u001b[1;32m      <a href='vscode-notebook-cell:/home/chunderdamus/Documents/NSS/NSS_Projects/hop_team-the-hindenburgs/notebooks/claytor.ipynb#X45sZmlsZQ%3D%3D?line=0'>1</a>\u001b[0m \u001b[39m# List to hold output of loop\u001b[39;00m\n\u001b[0;32m----> <a href='vscode-notebook-cell:/home/chunderdamus/Documents/NSS/NSS_Projects/hop_team-the-hindenburgs/notebooks/claytor.ipynb#X45sZmlsZQ%3D%3D?line=1'>2</a>\u001b[0m nashville_tract \u001b[39m=\u001b[39m \u001b[39mzip\u001b[39m[(\u001b[39mzip\u001b[39m[usps_zip_pref_city] \u001b[39m==\u001b[39m \u001b[39m'\u001b[39m\u001b[39mNASHVILLE\u001b[39m\u001b[39m'\u001b[39m) \u001b[39m&\u001b[39m (\u001b[39mzip\u001b[39m[usps_zip_pref_state] \u001b[39m==\u001b[39m \u001b[39m'\u001b[39m\u001b[39mTN\u001b[39m\u001b[39m'\u001b[39m)]\n",
      "\u001b[0;31mNameError\u001b[0m: name 'usps_zip_pref_city' is not defined"
     ]
    }
   ],
   "source": [
    "# List to hold output of loop\n",
    "nashville_tract = zip[(zip[usps_zip_pref_city] == 'NASHVILLE') & (zip[usps_zip_pref_state] == 'TN')]\n"
   ]
  },
  {
   "attachments": {},
   "cell_type": "markdown",
   "metadata": {},
   "source": [
    "# Chunky Dataset Imports "
   ]
  },
  {
   "attachments": {},
   "cell_type": "markdown",
   "metadata": {},
   "source": [
    "## HOP Teaming dataset"
   ]
  },
  {
   "cell_type": "code",
   "execution_count": 31,
   "metadata": {},
   "outputs": [],
   "source": [
    "#Reading in DocGraph HOP Teaming data\n",
    "hops_and_dreams = pd.read_csv('../data/DocGraph_Hop_Teaming_2018.csv', chunksize = 10000)\n",
    "# List to hold output of loop\n",
    "hop_chunks = []\n",
    "# Loop for filtering criteria\n",
    "for hop in hops_and_dreams:\n",
    "    # transaction_count <= 50 & average_day_wait < 50\n",
    "    hop = hop[(hop.transaction_count>= 50) & (hop.average_day_wait< 50)]\n",
    "    # appending output to hop_chunks list\n",
    "    hop_chunks.append(hop)\n"
   ]
  },
  {
   "cell_type": "code",
   "execution_count": 34,
   "metadata": {},
   "outputs": [
    {
     "data": {
      "text/html": [
       "<div>\n",
       "<style scoped>\n",
       "    .dataframe tbody tr th:only-of-type {\n",
       "        vertical-align: middle;\n",
       "    }\n",
       "\n",
       "    .dataframe tbody tr th {\n",
       "        vertical-align: top;\n",
       "    }\n",
       "\n",
       "    .dataframe thead th {\n",
       "        text-align: right;\n",
       "    }\n",
       "</style>\n",
       "<table border=\"1\" class=\"dataframe\">\n",
       "  <thead>\n",
       "    <tr style=\"text-align: right;\">\n",
       "      <th></th>\n",
       "      <th>from_npi</th>\n",
       "      <th>to_npi</th>\n",
       "      <th>patient_count</th>\n",
       "      <th>transaction_count</th>\n",
       "      <th>average_day_wait</th>\n",
       "      <th>std_day_wait</th>\n",
       "    </tr>\n",
       "  </thead>\n",
       "  <tbody>\n",
       "    <tr>\n",
       "      <th>0</th>\n",
       "      <td>1508085911</td>\n",
       "      <td>1730166125</td>\n",
       "      <td>58</td>\n",
       "      <td>67</td>\n",
       "      <td>23.925</td>\n",
       "      <td>43.923</td>\n",
       "    </tr>\n",
       "    <tr>\n",
       "      <th>1</th>\n",
       "      <td>1508167040</td>\n",
       "      <td>1730166125</td>\n",
       "      <td>51</td>\n",
       "      <td>51</td>\n",
       "      <td>28.196</td>\n",
       "      <td>52.876</td>\n",
       "    </tr>\n",
       "    <tr>\n",
       "      <th>2</th>\n",
       "      <td>1508863549</td>\n",
       "      <td>1730166125</td>\n",
       "      <td>340</td>\n",
       "      <td>391</td>\n",
       "      <td>18.302</td>\n",
       "      <td>42.422</td>\n",
       "    </tr>\n",
       "    <tr>\n",
       "      <th>3</th>\n",
       "      <td>1508867870</td>\n",
       "      <td>1730166125</td>\n",
       "      <td>50</td>\n",
       "      <td>79</td>\n",
       "      <td>12.658</td>\n",
       "      <td>26.402</td>\n",
       "    </tr>\n",
       "    <tr>\n",
       "      <th>4</th>\n",
       "      <td>1508011040</td>\n",
       "      <td>1730166224</td>\n",
       "      <td>132</td>\n",
       "      <td>145</td>\n",
       "      <td>8.579</td>\n",
       "      <td>28.053</td>\n",
       "    </tr>\n",
       "  </tbody>\n",
       "</table>\n",
       "</div>"
      ],
      "text/plain": [
       "     from_npi      to_npi  patient_count  transaction_count  average_day_wait  \\\n",
       "0  1508085911  1730166125             58                 67            23.925   \n",
       "1  1508167040  1730166125             51                 51            28.196   \n",
       "2  1508863549  1730166125            340                391            18.302   \n",
       "3  1508867870  1730166125             50                 79            12.658   \n",
       "4  1508011040  1730166224            132                145             8.579   \n",
       "\n",
       "   std_day_wait  \n",
       "0        43.923  \n",
       "1        52.876  \n",
       "2        42.422  \n",
       "3        26.402  \n",
       "4        28.053  "
      ]
     },
     "execution_count": 34,
     "metadata": {},
     "output_type": "execute_result"
    }
   ],
   "source": [
    "# Concatenating hop_chunks list to hop dataframe\n",
    "hop = pd.concat(hop_chunks, ignore_index = True)\n",
    "hop.head()"
   ]
  }
 ],
 "metadata": {
  "kernelspec": {
   "display_name": "base",
   "language": "python",
   "name": "python3"
  },
  "language_info": {
   "codemirror_mode": {
    "name": "ipython",
    "version": 3
   },
   "file_extension": ".py",
   "mimetype": "text/x-python",
   "name": "python",
   "nbconvert_exporter": "python",
   "pygments_lexer": "ipython3",
   "version": "3.9.12"
  },
  "orig_nbformat": 4,
  "vscode": {
   "interpreter": {
    "hash": "9cc0023dd0500ed28e67985b04469bb742c0f0e8caa05f7ee20bd154dec9a3ec"
   }
  }
 },
 "nbformat": 4,
 "nbformat_minor": 2
}
